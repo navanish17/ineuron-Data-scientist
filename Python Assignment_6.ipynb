{
 "cells": [
  {
   "cell_type": "markdown",
   "metadata": {},
   "source": [
    "# Assignment_6"
   ]
  },
  {
   "cell_type": "markdown",
   "metadata": {},
   "source": [
    "Qn.1) What are keywords in python? Using the keyword library, print all the python keywords.\n",
    "\n",
    "Answer:\n",
    "\n",
    "Keywords in Python are reserved words that have predefined meanings and cannot be used as identifiers (variable names, function names, etc.) in your code."
   ]
  },
  {
   "cell_type": "code",
   "execution_count": 1,
   "metadata": {},
   "outputs": [
    {
     "name": "stdout",
     "output_type": "stream",
     "text": [
      "False\n",
      "None\n",
      "True\n",
      "and\n",
      "as\n",
      "assert\n",
      "async\n",
      "await\n",
      "break\n",
      "class\n",
      "continue\n",
      "def\n",
      "del\n",
      "elif\n",
      "else\n",
      "except\n",
      "finally\n",
      "for\n",
      "from\n",
      "global\n",
      "if\n",
      "import\n",
      "in\n",
      "is\n",
      "lambda\n",
      "nonlocal\n",
      "not\n",
      "or\n",
      "pass\n",
      "raise\n",
      "return\n",
      "try\n",
      "while\n",
      "with\n",
      "yield\n"
     ]
    }
   ],
   "source": [
    "import keyword\n",
    "\n",
    "key_word = keyword.kwlist\n",
    "for i in key_word:\n",
    "    print(i)\n"
   ]
  },
  {
   "cell_type": "markdown",
   "metadata": {},
   "source": []
  },
  {
   "cell_type": "markdown",
   "metadata": {},
   "source": [
    "Qn.2) What are the rules to create variables in python?\n",
    "\n",
    "Answer:\n",
    "\n",
    "1. Variable names must start with a letter (a-z, A-Z) or an underscore (_).\n",
    "2. They can only contain letter & numbers combination, only letter with underscores or only letters.\n",
    "3. Variable names are case-sensitive.\n",
    "4. Avoid using Python keywords as variable names.\n",
    "5. Choose descriptive names that reflect the variable's purpose."
   ]
  },
  {
   "cell_type": "code",
   "execution_count": null,
   "metadata": {},
   "outputs": [],
   "source": []
  },
  {
   "cell_type": "markdown",
   "metadata": {},
   "source": [
    "Qn.3) What are the standards and conventions followed for the nomenclature of variables in\n",
    "python to improve code readability and maintainability?\n",
    "\n",
    "Answer:\n",
    "\n",
    "1. Use descriptive names that indicate the variable's purpose.\n",
    "2. Use lowercase letters and separate words with underscores (snake_case).\n",
    "3. Avoid using single characters or abbreviations that may be unclear.\n",
    "4. Be consistent with naming conventions throughout the codebase.\n",
    "5. Follow PEP 8 style guide for Python code."
   ]
  },
  {
   "cell_type": "markdown",
   "metadata": {},
   "source": []
  },
  {
   "cell_type": "markdown",
   "metadata": {},
   "source": [
    "Qn.4) What will happen if a keyword is used as a variable name?\n",
    "\n",
    "Answer:\n",
    "\n",
    "If a keyword is used as a variable name in Python, it will result in a syntax error. Python treats keywords as reserved words, and they have predefined meanings in the language."
   ]
  },
  {
   "cell_type": "markdown",
   "metadata": {},
   "source": []
  },
  {
   "cell_type": "markdown",
   "metadata": {},
   "source": [
    "Qn.5) For what purpose def keyword is used? \n",
    "\n",
    "Answer:\n",
    "\n",
    "The def keyword in Python is used to define user-defined functions. By using the def keyword, we can create our own functions with custom names and parameters."
   ]
  },
  {
   "cell_type": "markdown",
   "metadata": {},
   "source": []
  },
  {
   "cell_type": "markdown",
   "metadata": {},
   "source": [
    "Qn.6) What is the operation of this special character ‘\\’? \n",
    "\n",
    "Answer:\n",
    "\n",
    "The special character '' in Python is known as the escape character. It is used to indicate that the character following it has a special meaning, and it should be treated differently than its literal representation. \n",
    "'\\': Single quote (apostrophe)"
   ]
  },
  {
   "cell_type": "markdown",
   "metadata": {},
   "source": []
  },
  {
   "cell_type": "markdown",
   "metadata": {},
   "source": [
    "Qn.7)  Give an example of the following conditions: \n",
    "(i) Homogeneous list \n",
    "(ii) Heterogeneous set \n",
    "(iii) Homogeneous tuple \n",
    "\n",
    "Answer:\n",
    "\n",
    "1. homogeneous_list = [1, 2, 3, 4, 5]\n",
    "2. Heterogeneous set = {1, 'hello', True}\n",
    "3. Homogeneous tuple = (3.14, 1.618, 2.718)\n"
   ]
  },
  {
   "cell_type": "markdown",
   "metadata": {},
   "source": []
  },
  {
   "cell_type": "markdown",
   "metadata": {},
   "source": [
    "Qn.8)  Explain the mutable and immutable data types with proper explanation & examples. \n",
    "\n",
    "Answer:\n",
    "\n",
    "In Python, data types are classified as either mutable or immutable based on whether their values can be changed after they are created.\n",
    "\n",
    "1. Mutable: Mutable data types are those whose values can be modified after they are created. This means we can change the elements of a mutable object without creating a new object.\n",
    "Example of a mutable data type - List:"
   ]
  },
  {
   "cell_type": "code",
   "execution_count": 3,
   "metadata": {},
   "outputs": [
    {
     "name": "stdout",
     "output_type": "stream",
     "text": [
      "[1, 2, 10, 4]\n"
     ]
    }
   ],
   "source": [
    "# Create a list\n",
    "my_list = [1, 2, 3, 4]\n",
    "\n",
    "# Modify the list by changing its elements\n",
    "my_list[2] = 10\n",
    "print(my_list)"
   ]
  },
  {
   "cell_type": "markdown",
   "metadata": {},
   "source": [
    "2. Immutable: Immutable data types, on the other hand, are those whose values cannot be changed after they are created. If we need to make changes to an immutable object, we have to create a new object with the updated value. e.g: Tuple"
   ]
  },
  {
   "cell_type": "code",
   "execution_count": 4,
   "metadata": {},
   "outputs": [
    {
     "ename": "TypeError",
     "evalue": "'tuple' object does not support item assignment",
     "output_type": "error",
     "traceback": [
      "\u001b[1;31m---------------------------------------------------------------------------\u001b[0m",
      "\u001b[1;31mTypeError\u001b[0m                                 Traceback (most recent call last)",
      "Cell \u001b[1;32mIn[4], line 5\u001b[0m\n\u001b[0;32m      2\u001b[0m my_tuple \u001b[39m=\u001b[39m (\u001b[39m10\u001b[39m, \u001b[39m20\u001b[39m, \u001b[39m30\u001b[39m)\n\u001b[0;32m      4\u001b[0m \u001b[39m# Try to modify the tuple (this will raise an error)\u001b[39;00m\n\u001b[1;32m----> 5\u001b[0m my_tuple[\u001b[39m0\u001b[39m] \u001b[39m=\u001b[39m \u001b[39m5\u001b[39m\n",
      "\u001b[1;31mTypeError\u001b[0m: 'tuple' object does not support item assignment"
     ]
    }
   ],
   "source": [
    "# Create a tuple\n",
    "my_tuple = (10, 20, 30)\n",
    "\n",
    "# Try to modify the tuple (this will raise an error)\n",
    "my_tuple[0] = 5"
   ]
  },
  {
   "cell_type": "markdown",
   "metadata": {},
   "source": []
  },
  {
   "cell_type": "markdown",
   "metadata": {},
   "source": [
    "Qn.9) Write a code to create the given structure using only for loop. \n",
    "     * \n",
    "    *** \n",
    "   ***** \n",
    "  ******* \n",
    " ********* \n",
    "\n",
    "\n",
    " Answer:"
   ]
  },
  {
   "cell_type": "code",
   "execution_count": 5,
   "metadata": {},
   "outputs": [
    {
     "name": "stdout",
     "output_type": "stream",
     "text": [
      "    *\n",
      "   ***\n",
      "  *****\n",
      " *******\n",
      "*********\n"
     ]
    }
   ],
   "source": [
    "rows = 5  # Number of rows in the structure\n",
    "\n",
    "for i in range(1, rows + 1):\n",
    "    spaces = rows - i\n",
    "    stars = 2 * i - 1\n",
    "\n",
    "    # Print spaces\n",
    "    for j in range(spaces):\n",
    "        print(\" \", end=\"\")\n",
    "\n",
    "    # Print stars\n",
    "    for k in range(stars):\n",
    "        print(\"*\", end=\"\")\n",
    "\n",
    "    # Move to the next line after each row\n",
    "    print()\n"
   ]
  },
  {
   "cell_type": "markdown",
   "metadata": {},
   "source": []
  },
  {
   "cell_type": "markdown",
   "metadata": {},
   "source": [
    "Qn.10) Write a code to create the given structure using while loop.\n",
    "\n",
    "Answer: \n",
    "\n",
    "       ||||||||| \n",
    "        ||||||| \n",
    "         ||||| \n",
    "          ||| \n"
   ]
  },
  {
   "cell_type": "code",
   "execution_count": 6,
   "metadata": {},
   "outputs": [
    {
     "name": "stdout",
     "output_type": "stream",
     "text": [
      "|||||||\n",
      " |||||\n",
      "  |||\n",
      "   |\n"
     ]
    }
   ],
   "source": [
    "rows = 4  # Number of rows in the structure\n",
    "spaces = 0  # Number of spaces at the beginning\n",
    "\n",
    "while rows > 0:\n",
    "    # Print spaces at the beginning of each row\n",
    "    for i in range(spaces):\n",
    "        print(\" \", end=\"\")\n",
    "\n",
    "    # Print the stars (pipes) for each row\n",
    "    for j in range(2 * rows - 1):\n",
    "        print(\"|\", end=\"\")\n",
    "\n",
    "    # Move to the next line after each row\n",
    "    print()\n",
    "\n",
    "    # Update values for the next row\n",
    "    rows -= 1\n",
    "    spaces += 1\n"
   ]
  }
 ],
 "metadata": {
  "kernelspec": {
   "display_name": "base",
   "language": "python",
   "name": "python3"
  },
  "language_info": {
   "codemirror_mode": {
    "name": "ipython",
    "version": 3
   },
   "file_extension": ".py",
   "mimetype": "text/x-python",
   "name": "python",
   "nbconvert_exporter": "python",
   "pygments_lexer": "ipython3",
   "version": "3.11.3"
  },
  "orig_nbformat": 4
 },
 "nbformat": 4,
 "nbformat_minor": 2
}
