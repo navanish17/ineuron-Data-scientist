{
 "cells": [
  {
   "cell_type": "markdown",
   "metadata": {},
   "source": [
    "# Assignment_7"
   ]
  },
  {
   "cell_type": "markdown",
   "metadata": {},
   "source": [
    "Qn.1) Create two int type variables, apply addition, subtraction, division and multiplications\n",
    "and store the results in variables. Then print the data in the following format by calling the\n",
    "variables:\n",
    "\n",
    "Answer:"
   ]
  },
  {
   "cell_type": "code",
   "execution_count": 1,
   "metadata": {},
   "outputs": [
    {
     "name": "stdout",
     "output_type": "stream",
     "text": [
      "First variable is 10 & second variable is 5.\n",
      "Addition: 10 + 5 = 15\n",
      "Subtraction: 10 - 5 = 5\n",
      "Multiplication: 10 * 5 = 50\n",
      "Division: 10 / 5 = 2.0\n"
     ]
    }
   ],
   "source": [
    "num1 = 10\n",
    "num2 = 5\n",
    "\n",
    "addition_result = num1 + num2\n",
    "subtraction_result = num1 - num2\n",
    "multiplication_result = num1 * num2\n",
    "division_result = num1 / num2\n",
    "\n",
    "# Print the results\n",
    "print(f\"First variable is {num1} & second variable is {num2}.\")\n",
    "print(f\"Addition: {num1} + {num2} = {addition_result}\")\n",
    "print(f\"Subtraction: {num1} - {num2} = {subtraction_result}\")\n",
    "print(f\"Multiplication: {num1} * {num2} = {multiplication_result}\")\n",
    "print(f\"Division: {num1} / {num2} = {division_result}\")\n"
   ]
  },
  {
   "cell_type": "markdown",
   "metadata": {},
   "source": []
  },
  {
   "cell_type": "markdown",
   "metadata": {},
   "source": [
    "Qn.2) What is the difference between the following operators: \n",
    "(i) ‘/’ & ‘//’ \n",
    "(ii) ‘**’ & ‘^’ \n",
    "\n",
    "Answer:\n",
    "\n",
    "(i) The difference between the `/` and `//` operators in Python is as follows:\n",
    "\n",
    "- `/` is the regular division operator and performs floating-point division. It gives the result with decimal places if needed. For example, `10 / 3` would result in `3.3333333333333335`.\n",
    "\n",
    "- `//` is the floor division operator. It performs division and rounds down the result to the nearest integer. For example, `10 // 3` would result in `3`.\n",
    "\n",
    "(ii) The difference between the `**` and `^` operators in Python is as follows:\n",
    "\n",
    "- `**` is the exponentiation operator. It raises the left operand to the power of the right operand. For example, `2 ** 3` would result in `8`.\n",
    "\n",
    "- `^` is not an exponentiation operator in Python. Instead, it is the bitwise XOR operator. It performs a bitwise XOR operation on the binary representations of the two operands. For example, `5 ^ 3` would result in `6` (binary `101 ^ 011` gives `110`, which is 6 in decimal). If you want to perform exponentiation, use the `**` operator instead."
   ]
  },
  {
   "cell_type": "markdown",
   "metadata": {},
   "source": []
  },
  {
   "cell_type": "markdown",
   "metadata": {},
   "source": [
    "Qn.3) List the logical operators. \n",
    "\n",
    "Answer:\n",
    "\n",
    "1. `and`: The `and` operator returns `True` if both operands are `True`, otherwise, it returns `False`.\n",
    "\n",
    "2. `or`: The `or` operator returns `True` if at least one of the operands is `True`, otherwise, it returns `False`.\n",
    "\n",
    "3. `not`: The `not` operator is a unary operator and returns the opposite boolean value of its operand. If the operand is `True`, `not` will return `False`, and if the operand is `False`, `not` will return `True`."
   ]
  },
  {
   "cell_type": "markdown",
   "metadata": {},
   "source": []
  },
  {
   "cell_type": "markdown",
   "metadata": {},
   "source": [
    "Qn.4) Explain right shift operator and left shift operator with examples. \n",
    "\n",
    "Answer:\n",
    "\n",
    "1. Right Shift Operator (>>):\n",
    "The right shift operator shifts the bits of a number to the right by the specified number of positions. The rightmost bits that are shifted out are discarded, and the vacant bits on the left are filled with the original sign bit (the leftmost bit, which represents the sign of the number)."
   ]
  },
  {
   "cell_type": "code",
   "execution_count": 2,
   "metadata": {},
   "outputs": [
    {
     "name": "stdout",
     "output_type": "stream",
     "text": [
      "5\n"
     ]
    }
   ],
   "source": [
    "num = 10  # Binary: 1010\n",
    "shifted_num = num >> 1\n",
    "print(shifted_num)"
   ]
  },
  {
   "cell_type": "markdown",
   "metadata": {},
   "source": [
    "Left Shift Operator (<<):\n",
    "The left shift operator shifts the bits of a number to the left by the specified number of positions. The leftmost bits that are shifted out are discarded, and the vacant bits on the right are filled with 0."
   ]
  },
  {
   "cell_type": "code",
   "execution_count": 3,
   "metadata": {},
   "outputs": [
    {
     "name": "stdout",
     "output_type": "stream",
     "text": [
      "20\n"
     ]
    }
   ],
   "source": [
    "num = 5  # Binary: 0101\n",
    "shifted_num = num << 2\n",
    "print(shifted_num)"
   ]
  },
  {
   "cell_type": "markdown",
   "metadata": {},
   "source": []
  },
  {
   "cell_type": "markdown",
   "metadata": {},
   "source": [
    "Qn.5) Create a list containing int type data of length 15. Then write a code to check if 10 is present in the list or not.\n",
    "\n",
    "Annswer:"
   ]
  },
  {
   "cell_type": "code",
   "execution_count": 4,
   "metadata": {},
   "outputs": [
    {
     "name": "stdout",
     "output_type": "stream",
     "text": [
      "10 is present in the list.\n"
     ]
    }
   ],
   "source": [
    "# Create a list containing int type data of length 15\n",
    "my_list = [1, 2, 3, 4, 5, 6, 7, 8, 9, 10, 11, 12, 13, 14, 15]\n",
    "\n",
    "# Check if 10 is present in the list\n",
    "if 10 in my_list:\n",
    "    print(\"10 is present in the list.\")\n",
    "else:\n",
    "    print(\"10 is not present in the list.\")\n"
   ]
  }
 ],
 "metadata": {
  "kernelspec": {
   "display_name": "base",
   "language": "python",
   "name": "python3"
  },
  "language_info": {
   "codemirror_mode": {
    "name": "ipython",
    "version": 3
   },
   "file_extension": ".py",
   "mimetype": "text/x-python",
   "name": "python",
   "nbconvert_exporter": "python",
   "pygments_lexer": "ipython3",
   "version": "3.11.3"
  },
  "orig_nbformat": 4
 },
 "nbformat": 4,
 "nbformat_minor": 2
}
