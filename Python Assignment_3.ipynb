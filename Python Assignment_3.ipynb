{
 "cells": [
  {
   "cell_type": "markdown",
   "metadata": {},
   "source": [
    "# Assignment_3"
   ]
  },
  {
   "cell_type": "code",
   "execution_count": 2,
   "metadata": {},
   "outputs": [],
   "source": [
    "# Notice: Some written text is hidden in github preview option, Just download this file to see full code.\n",
    "# Double tap any cells if orientation is mixed"
   ]
  },
  {
   "cell_type": "markdown",
   "metadata": {},
   "source": [
    "Qn.1) Why are functions advantageous to have in your programs?\n",
    "\n",
    "Answer:\n",
    "\n",
    "The advantages of using functions in programs are: To Reducing duplication of code, To make the programs more readable, To Simplify complex problems into simpler pieces, To Improve overall clarity of the code and to make programs shorter.\n"
   ]
  },
  {
   "cell_type": "markdown",
   "metadata": {},
   "source": []
  },
  {
   "cell_type": "markdown",
   "metadata": {},
   "source": [
    "Qn.2) When does the code in a function run: when it's specified or when it's called ?\n",
    "\n",
    "Answer: \n",
    "\n",
    "The code in a function run when the function is called, not when the function is specified."
   ]
  },
  {
   "cell_type": "markdown",
   "metadata": {},
   "source": []
  },
  {
   "cell_type": "markdown",
   "metadata": {},
   "source": [
    "Qn.3) What statement creates a function?\n",
    "\n",
    "Answer:\n",
    "\n",
    "We can create a function using the def keyword, followed by the function name and a pair of parentheses.\n",
    "e.g: def function_name(parameters):"
   ]
  },
  {
   "cell_type": "markdown",
   "metadata": {},
   "source": []
  },
  {
   "cell_type": "markdown",
   "metadata": {},
   "source": [
    "Qn.4) What is the difference between a function and a function call?\n",
    "\n",
    "Answer:\n",
    "\n",
    "1. A function is a block of code that performs a specific task or a set of related tasks. It is defined using  he def keyword, followed by the function name and a pair of parentheses containing optional parameters.\n",
    "\n",
    "2. A function call is an instruction that tells the program to execute the code inside a specific function at a particular point in the program's execution."
   ]
  },
  {
   "cell_type": "code",
   "execution_count": 3,
   "metadata": {},
   "outputs": [
    {
     "name": "stdout",
     "output_type": "stream",
     "text": [
      "8\n"
     ]
    }
   ],
   "source": [
    "#Example....Function\n",
    "def add_numbers(a, b):\n",
    "    result = a + b\n",
    "    return result\n",
    "\n",
    "#Function call\n",
    "sum_result = add_numbers(3, 5)\n",
    "print(sum_result)\n",
    "#output = 8"
   ]
  },
  {
   "cell_type": "markdown",
   "metadata": {},
   "source": []
  },
  {
   "cell_type": "markdown",
   "metadata": {},
   "source": [
    "Qn.5) How many global scopes are there in a Python program? How many local scopes?\n",
    "\n",
    "Answer: \n",
    "\n",
    "In a Python program, there is only one global scope, and it is accessible throughout the entire program. \n",
    "On the other hand, the number of local scopes in a Python program depends on the number of functions defined in the program. "
   ]
  },
  {
   "cell_type": "markdown",
   "metadata": {},
   "source": []
  },
  {
   "cell_type": "markdown",
   "metadata": {},
   "source": [
    "Qn.6) What happens to variables in a local scope when the function call returns?\n",
    "\n",
    "Answer: \n",
    "\n",
    "When a function call returns in Python, the local scope created during the execution of that function is destroyed, and all the variables defined within that local scope are deallocated from memory."
   ]
  },
  {
   "cell_type": "markdown",
   "metadata": {},
   "source": []
  },
  {
   "cell_type": "markdown",
   "metadata": {},
   "source": [
    "Qn.7) What is the concept of a return value? Is it possible to have a return value in an expression?\n",
    "\n",
    "Answer:\n",
    "\n",
    "The concept of a \"return value\" refers to the value that a function sends back to the caller after it has finished its execution. \n",
    "The return statement can be followed by an expression or a variable that represents the value to be returned, and return value can be used as part of an expression."
   ]
  },
  {
   "cell_type": "markdown",
   "metadata": {},
   "source": []
  },
  {
   "cell_type": "markdown",
   "metadata": {},
   "source": [
    "Qn.8) If a function does not have a return statement, what is the return value of a call to that function ?\n",
    "\n",
    "Answer:\n",
    "\n",
    "If a function does not have a return statement, the return value of a call to that function will be None."
   ]
  },
  {
   "cell_type": "markdown",
   "metadata": {},
   "source": []
  },
  {
   "cell_type": "markdown",
   "metadata": {},
   "source": [
    "Qn.9) How do you make a function variable refer to the global variable?\n",
    "\n",
    "Answer:\n",
    "\n",
    "To make a function variable refer to a global variable in Python, we can use the \"global\" keyword inside the function. This tells Python that the variable being used in the function should be considered as a global variable, rather than creating a new local variable with the same name."
   ]
  },
  {
   "cell_type": "markdown",
   "metadata": {},
   "source": []
  },
  {
   "cell_type": "markdown",
   "metadata": {},
   "source": [
    "Qn.10) What is the data type of None?\n",
    "\n",
    "Answer:\n",
    "\n",
    "In Python, None is a special constant that represents the absence of a value or a null value. The data type of None is a unique type called NoneType. We can check the type of None using the type() function."
   ]
  },
  {
   "cell_type": "markdown",
   "metadata": {},
   "source": []
  },
  {
   "cell_type": "markdown",
   "metadata": {},
   "source": [
    "Qn.11) What does the sentence import areallyourpetsnamederic do?\n",
    "\n",
    "Answer:\n",
    "\n",
    "That import statement imports a module named areallyourpetsnamederic in python."
   ]
  },
  {
   "cell_type": "markdown",
   "metadata": {},
   "source": []
  },
  {
   "cell_type": "markdown",
   "metadata": {},
   "source": [
    "Qn.12) If you had a bacon() feature in a spam module, what would you call it after importing spam?\n",
    "\n",
    "Answer:\n",
    "\n",
    "So simple answer for this: This function can be called with spam.bacon()"
   ]
  },
  {
   "cell_type": "markdown",
   "metadata": {},
   "source": []
  },
  {
   "cell_type": "markdown",
   "metadata": {},
   "source": [
    "Qn.13) What can you do to save a programme from crashing if it encounters an error?\n",
    "\n",
    "Answer:\n",
    "\n",
    "We can use error handling techniques for that. The key construct for handling exceptions in Python is the 'try'-'except' block.\n"
   ]
  },
  {
   "cell_type": "markdown",
   "metadata": {},
   "source": []
  },
  {
   "cell_type": "markdown",
   "metadata": {},
   "source": [
    "Qn.14) What is the purpose of the try clause? What is the purpose of the except clause?\n",
    "\n",
    "Answer:\n",
    "\n",
    "The code that could potentially cause an error goes in the try clause.\n",
    "\n",
    "The code that executes if an error happens goes in the except clause."
   ]
  },
  {
   "cell_type": "code",
   "execution_count": null,
   "metadata": {},
   "outputs": [],
   "source": [
    "# example for this\n",
    "\n",
    "try:\n",
    "    # Code that may raise an exception\n",
    "    result = 10 / 0  # This will raise a ZeroDivisionError\n",
    "except ZeroDivisionError:\n",
    "    # Code to handle the ZeroDivisionError\n",
    "    print(\"Cannot divide by zero.\")\n"
   ]
  }
 ],
 "metadata": {
  "kernelspec": {
   "display_name": "base",
   "language": "python",
   "name": "python3"
  },
  "language_info": {
   "codemirror_mode": {
    "name": "ipython",
    "version": 3
   },
   "file_extension": ".py",
   "mimetype": "text/x-python",
   "name": "python",
   "nbconvert_exporter": "python",
   "pygments_lexer": "ipython3",
   "version": "3.11.3"
  },
  "orig_nbformat": 4
 },
 "nbformat": 4,
 "nbformat_minor": 2
}
