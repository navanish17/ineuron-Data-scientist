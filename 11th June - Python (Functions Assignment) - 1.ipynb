{
 "cells": [
  {
   "cell_type": "markdown",
   "metadata": {},
   "source": [
    "# 11th June - Python (Functions Assignment) - 1"
   ]
  },
  {
   "cell_type": "markdown",
   "metadata": {},
   "source": [
    "Qn.1) What is a lambda function in Python, and how does it differ from a regular function? \n",
    "\n",
    "Answer:\n",
    "\n",
    "A lambda function in Python is an anonymous function defined using the lambda keyword. It can take any number of arguments but can only have one expression. Lambda functions are typically used for short, one-line operations.\n",
    "\n",
    "Difference from a regular function:\n",
    "\n",
    "Lambda functions are anonymous and don't have a name.\n",
    "They are used for simple, short operations, while regular functions can have multiple statements and a name."
   ]
  },
  {
   "cell_type": "markdown",
   "metadata": {},
   "source": []
  },
  {
   "cell_type": "markdown",
   "metadata": {},
   "source": [
    "Qn.2) Can a lambda function in Python have multiple arguments? If yes, how can you define and use them? \n",
    "\n",
    "Answer:\n",
    "\n",
    "Yes, a lambda function in Python can have multiple arguments. It can be defined and used by specifying the argument names separated by commas before the colon and providing a single expression after the colon."
   ]
  },
  {
   "cell_type": "code",
   "execution_count": 1,
   "metadata": {},
   "outputs": [
    {
     "name": "stdout",
     "output_type": "stream",
     "text": [
      "8\n"
     ]
    }
   ],
   "source": [
    "#example\n",
    "# Lambda function with two arguments\n",
    "add = lambda x, y: x + y\n",
    "\n",
    "result = add(5, 3)\n",
    "print(result)"
   ]
  },
  {
   "cell_type": "markdown",
   "metadata": {},
   "source": []
  },
  {
   "cell_type": "markdown",
   "metadata": {},
   "source": [
    "Qn.3) How are lambda functions typically used in Python? Provide an example use case.\n",
    "\n",
    "Answer:\n",
    "\n",
    "Lambda functions are typically used in Python for short, one-line operations where defining a regular function would be unnecessary. They are often used as arguments to higher-order functions like map(), filter(), sorted(), and more, which require a function as an argument."
   ]
  },
  {
   "cell_type": "code",
   "execution_count": 4,
   "metadata": {},
   "outputs": [
    {
     "name": "stdout",
     "output_type": "stream",
     "text": [
      "[1, 4, 9, 16, 25]\n"
     ]
    }
   ],
   "source": [
    "# Given a list of numbers, square each number using a lambda function and map()\n",
    "numbers = [1, 2, 3, 4, 5]\n",
    "\n",
    "# Using a lambda function with map() to square each element in the list\n",
    "squared_numbers = list(map(lambda x: x**2, numbers))\n",
    "print(squared_numbers)"
   ]
  },
  {
   "cell_type": "markdown",
   "metadata": {},
   "source": []
  },
  {
   "cell_type": "markdown",
   "metadata": {},
   "source": [
    "Qn.4) What are the advantages and limitations of lambda functions compared to regular functions in Python? \n",
    "\n",
    "Answer:\n",
    "\n",
    "Advantages of lambda functions:\n",
    "\n",
    "1. Concise syntax: Lambda functions allow for a more compact and concise way to define simple operations without the need for a full function definition.\n",
    "2. Anonymous: Lambda functions are anonymous, making them suitable for short-lived operations without cluttering the code with unnecessary function names.\n",
    "3. Used with higher-order functions: Lambda functions are commonly used as arguments to higher-order functions like map(), filter(), and sorted().\n",
    "\n",
    "Limitations of lambda functions:\n",
    "\n",
    "1. Single expression: Lambda functions can only contain a single expression, limiting their use for more complex operations that require multiple statements.\n",
    "2. Limited readability: Complex lambda expressions can be difficult to read and understand, reducing code readability.\n",
    "3. No documentation: Lambda functions lack built-in docstrings, making it harder to provide descriptive information about their purpose and usage."
   ]
  },
  {
   "cell_type": "markdown",
   "metadata": {},
   "source": []
  },
  {
   "cell_type": "markdown",
   "metadata": {},
   "source": [
    "Qn.5) Are lambda functions in Python able to access variables defined outside of their own scope? Explain with an example. \n",
    "\n",
    "Answer:\n",
    "\n",
    "Yes, lambda functions in Python can access variables defined outside of their own scope. Lambda functions have access to variables from the enclosing scope in a similar way as regular functions do. This behavior is known as \"lexical scoping\" or \"closure.\""
   ]
  },
  {
   "cell_type": "code",
   "execution_count": 15,
   "metadata": {},
   "outputs": [
    {
     "name": "stdout",
     "output_type": "stream",
     "text": [
      "35\n"
     ]
    }
   ],
   "source": [
    "def outer_function():\n",
    "    x = 10\n",
    "\n",
    "    # Lambda function accessing the variable 'x' from the outer_function scope\n",
    "    square = lambda y: y**2 + x\n",
    "\n",
    "    return square\n",
    "\n",
    "# Call the outer_function and get the lambda function\n",
    "my_lambda = outer_function()\n",
    "\n",
    "# Call the lambda function with an argument\n",
    "result = my_lambda(5)\n",
    "\n",
    "print(result)\n"
   ]
  },
  {
   "cell_type": "markdown",
   "metadata": {},
   "source": []
  },
  {
   "cell_type": "markdown",
   "metadata": {},
   "source": [
    "Qn.6) Write a lambda function to calculate the square of a given number.\n",
    "\n",
    "Answer:"
   ]
  },
  {
   "cell_type": "code",
   "execution_count": 16,
   "metadata": {},
   "outputs": [
    {
     "name": "stdout",
     "output_type": "stream",
     "text": [
      "100\n"
     ]
    }
   ],
   "source": [
    "square = lambda x: x ** 2\n",
    "result = square(10)\n",
    "print(result)"
   ]
  },
  {
   "cell_type": "markdown",
   "metadata": {},
   "source": []
  },
  {
   "cell_type": "markdown",
   "metadata": {},
   "source": [
    "Qn.7) Create a lambda function to find the maximum value in a list of integers.\n",
    "\n",
    "Answer:"
   ]
  },
  {
   "cell_type": "code",
   "execution_count": 17,
   "metadata": {},
   "outputs": [
    {
     "name": "stdout",
     "output_type": "stream",
     "text": [
      "20\n"
     ]
    }
   ],
   "source": [
    "list1 = [5,10,15,20]\n",
    "Max_number = lambda list1: max(list1)\n",
    "result = Max_number(list1)\n",
    "print(result)"
   ]
  },
  {
   "cell_type": "markdown",
   "metadata": {},
   "source": []
  },
  {
   "cell_type": "markdown",
   "metadata": {},
   "source": [
    "Qn.8) Implement a lambda function to filter out all the even numbers from a list of integers. \n",
    "\n",
    "Answer:"
   ]
  },
  {
   "cell_type": "code",
   "execution_count": 18,
   "metadata": {},
   "outputs": [
    {
     "name": "stdout",
     "output_type": "stream",
     "text": [
      "[10, 20]\n"
     ]
    }
   ],
   "source": [
    "list1 = [5,10,15,20]\n",
    "even_numbers = lambda lst: list(filter(lambda x: x % 2 == 0, lst))\n",
    "result  = even_numbers(list1)\n",
    "print(result)"
   ]
  },
  {
   "cell_type": "markdown",
   "metadata": {},
   "source": []
  },
  {
   "cell_type": "markdown",
   "metadata": {},
   "source": [
    "Qn.9) Write a lambda function to sort a list of strings in ascending order based on the length of each string.\n",
    "\n",
    "Answer:"
   ]
  },
  {
   "cell_type": "code",
   "execution_count": 20,
   "metadata": {},
   "outputs": [
    {
     "name": "stdout",
     "output_type": "stream",
     "text": [
      "['Nest', 'Mango', 'Lemon', 'Banana']\n"
     ]
    }
   ],
   "source": [
    "list1 = ['Mango','Nest','Lemon','Banana']\n",
    "sort_by_length = lambda lst: sorted(lst, key=lambda x: len(x))\n",
    "result  = sort_by_length(list1)\n",
    "print(result)"
   ]
  },
  {
   "cell_type": "markdown",
   "metadata": {},
   "source": []
  },
  {
   "cell_type": "markdown",
   "metadata": {},
   "source": [
    "Qn.10) Create a lambda function that takes two lists as input and returns a new list containing the common elements between the two lists. \n",
    "\n",
    "Answer:\n"
   ]
  },
  {
   "cell_type": "code",
   "execution_count": 26,
   "metadata": {},
   "outputs": [
    {
     "name": "stdout",
     "output_type": "stream",
     "text": [
      "Common elements: [5, 6, 9]\n"
     ]
    }
   ],
   "source": [
    "\n",
    "get_common_elements = lambda list1, list2: list(filter(lambda x: x in list1, list2))\n",
    "\n",
    "list1 = input(\"Enter the first list (space-separated elements): \").split()\n",
    "list2 = input(\"Enter the second list (space-separated elements): \").split()\n",
    "\n",
    "list1 = list(map(int, list1))\n",
    "list2 = list(map(int, list2))\n",
    "\n",
    "result = get_common_elements(list1, list2)\n",
    "print(\"Common elements:\", result)\n"
   ]
  },
  {
   "cell_type": "markdown",
   "metadata": {},
   "source": []
  },
  {
   "cell_type": "markdown",
   "metadata": {},
   "source": [
    "Qn.11)  Write a recursive function to calculate the factorial of a given positive integer. \n",
    "\n",
    "Answer:"
   ]
  },
  {
   "cell_type": "code",
   "execution_count": 30,
   "metadata": {},
   "outputs": [
    {
     "data": {
      "text/plain": [
       "120"
      ]
     },
     "execution_count": 30,
     "metadata": {},
     "output_type": "execute_result"
    }
   ],
   "source": [
    "def factorial(n):\n",
    "    if n == 0 or n == 1:\n",
    "        return 1\n",
    "    else:\n",
    "        return n * factoria(n - 1)\n",
    "    \n",
    "factorial(5)    \n",
    "\n"
   ]
  },
  {
   "cell_type": "markdown",
   "metadata": {},
   "source": []
  },
  {
   "cell_type": "markdown",
   "metadata": {},
   "source": [
    "Qn.12) Implement a recursive function to compute the nth Fibonacci number. \n",
    "\n",
    "Answer:"
   ]
  },
  {
   "cell_type": "code",
   "execution_count": 32,
   "metadata": {},
   "outputs": [
    {
     "name": "stdout",
     "output_type": "stream",
     "text": [
      "The 10th Fibonacci number is: 34\n"
     ]
    }
   ],
   "source": [
    "def fibonacci(n):\n",
    "    if n <= 0:\n",
    "        return \"Invalid input. n should be a positive integer.\"\n",
    "    elif n == 1:\n",
    "        return 0\n",
    "    elif n == 2:\n",
    "        return 1\n",
    "    else:\n",
    "        return fibonacci(n - 1) + fibonacci(n - 2)\n",
    "n = 10\n",
    "result = fibonacci(n)\n",
    "print(f\"The {n}th Fibonacci number is: {result}\")\n"
   ]
  },
  {
   "cell_type": "markdown",
   "metadata": {},
   "source": []
  },
  {
   "cell_type": "markdown",
   "metadata": {},
   "source": [
    "Qn.13) Create a recursive function to find the sum of all the elements in a given list. \n",
    "\n",
    "Answer:"
   ]
  },
  {
   "cell_type": "code",
   "execution_count": 33,
   "metadata": {},
   "outputs": [
    {
     "name": "stdout",
     "output_type": "stream",
     "text": [
      "The sum of the elements in the list is: 15\n"
     ]
    }
   ],
   "source": [
    "def sum_list_elements(lst):\n",
    "    if not lst:\n",
    "        return 0\n",
    "    else:\n",
    "        return lst[0] + sum_list_elements(lst[1:])\n",
    "numbers = [1, 2, 3, 4, 5]\n",
    "result = sum_list_elements(numbers)\n",
    "print(f\"The sum of the elements in the list is: {result}\")\n"
   ]
  },
  {
   "cell_type": "markdown",
   "metadata": {},
   "source": []
  },
  {
   "cell_type": "markdown",
   "metadata": {},
   "source": [
    "Qn.14) Write a recursive function to determine whether a given string is a palindrome. \n",
    "\n",
    "Answer:"
   ]
  },
  {
   "cell_type": "code",
   "execution_count": 34,
   "metadata": {},
   "outputs": [
    {
     "name": "stdout",
     "output_type": "stream",
     "text": [
      "radar is a palindrome: True\n",
      "hello is a palindrome: False\n"
     ]
    }
   ],
   "source": [
    "def is_palindrome(s):\n",
    "    if len(s) <= 1:\n",
    "        return True\n",
    "\n",
    "    if s[0] == s[-1]:\n",
    "        return is_palindrome(s[1:-1])\n",
    "    else:\n",
    "        return False\n",
    "string1 = \"radar\"\n",
    "string2 = \"hello\"\n",
    "\n",
    "result1 = is_palindrome(string1)\n",
    "result2 = is_palindrome(string2)\n",
    "\n",
    "print(f\"{string1} is a palindrome: {result1}\")\n",
    "print(f\"{string2} is a palindrome: {result2}\")\n"
   ]
  },
  {
   "cell_type": "markdown",
   "metadata": {},
   "source": []
  },
  {
   "cell_type": "markdown",
   "metadata": {},
   "source": [
    "Qn.15) Implement a recursive function to find the greatest common divisor (GCD) of two positive integers.\n",
    "\n",
    "Answer:"
   ]
  },
  {
   "cell_type": "code",
   "execution_count": 35,
   "metadata": {},
   "outputs": [
    {
     "name": "stdout",
     "output_type": "stream",
     "text": [
      "The GCD of 24 and 36 is: 12\n"
     ]
    }
   ],
   "source": [
    "def gcd(a, b):\n",
    "    if b == 0:\n",
    "        return a\n",
    "    else:\n",
    "        return gcd(b, a % b)\n",
    "num1 = 24\n",
    "num2 = 36\n",
    "\n",
    "result = gcd(num1, num2)\n",
    "print(f\"The GCD of {num1} and {num2} is: {result}\")\n"
   ]
  }
 ],
 "metadata": {
  "kernelspec": {
   "display_name": "base",
   "language": "python",
   "name": "python3"
  },
  "language_info": {
   "codemirror_mode": {
    "name": "ipython",
    "version": 3
   },
   "file_extension": ".py",
   "mimetype": "text/x-python",
   "name": "python",
   "nbconvert_exporter": "python",
   "pygments_lexer": "ipython3",
   "version": "3.11.3"
  },
  "orig_nbformat": 4
 },
 "nbformat": 4,
 "nbformat_minor": 2
}
