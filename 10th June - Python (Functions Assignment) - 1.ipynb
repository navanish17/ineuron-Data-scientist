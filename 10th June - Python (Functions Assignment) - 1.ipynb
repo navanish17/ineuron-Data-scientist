{
 "cells": [
  {
   "cell_type": "markdown",
   "metadata": {},
   "source": [
    "# 10th June - Python (Functions Assignment) - 1\n"
   ]
  },
  {
   "cell_type": "markdown",
   "metadata": {},
   "source": [
    "Qn.1) In Python, what is the difference between a built-in function and a user-defined function? Provide an example of each. \n",
    "\n",
    "Answer:\n",
    "\n",
    "1. Built-in functions are functions that are already provided by Python as part of its standard library. These functions are available for use without the need for additional import statements."
   ]
  },
  {
   "cell_type": "code",
   "execution_count": 1,
   "metadata": {},
   "outputs": [
    {
     "name": "stdout",
     "output_type": "stream",
     "text": [
      "13\n"
     ]
    }
   ],
   "source": [
    "#Example for this\n",
    "# Using the built-in function len()\n",
    "text = \"Hello, World!\"\n",
    "length = len(text)\n",
    "print(length)"
   ]
  },
  {
   "cell_type": "markdown",
   "metadata": {},
   "source": [
    "2. User-defined functions are functions that programmers create themselves. They are defined using the def keyword, and the logic for the function's operation is written by the programmer"
   ]
  },
  {
   "cell_type": "code",
   "execution_count": 2,
   "metadata": {},
   "outputs": [
    {
     "name": "stdout",
     "output_type": "stream",
     "text": [
      "25\n"
     ]
    }
   ],
   "source": [
    "#example\n",
    "def square(num):\n",
    "    return num * num\n",
    "\n",
    "result = square(5)\n",
    "print(result)"
   ]
  },
  {
   "cell_type": "markdown",
   "metadata": {},
   "source": []
  },
  {
   "cell_type": "markdown",
   "metadata": {},
   "source": [
    "Qn.2) How can you pass arguments to a function in Python? Explain the difference between positional arguments and keyword arguments. \n",
    "\n",
    "Answer:\n",
    "\n",
    "In Python, we can pass arguments to a function when we define the function or when we call the function. \n",
    "\n",
    "1. Positional aarguments:\n",
    "Positional arguments are passed to a function based on their position in the function call. The order of the arguments matters, and the values are assigned to the function parameters in the order they are provided."
   ]
  },
  {
   "cell_type": "code",
   "execution_count": 3,
   "metadata": {},
   "outputs": [
    {
     "name": "stdout",
     "output_type": "stream",
     "text": [
      "Hello, Alice! You are 30 years old.\n"
     ]
    }
   ],
   "source": [
    "def greet(name, age):\n",
    "    print(f\"Hello, {name}! You are {age} years old.\")\n",
    "\n",
    "greet(\"Alice\", 30)\n"
   ]
  },
  {
   "cell_type": "markdown",
   "metadata": {},
   "source": [
    "2. Keyword arguments:\n",
    "Keyword arguments are passed to a function with their corresponding parameter names explicitly mentioned. The order of the arguments doesn't matter in this case."
   ]
  },
  {
   "cell_type": "code",
   "execution_count": 4,
   "metadata": {},
   "outputs": [
    {
     "name": "stdout",
     "output_type": "stream",
     "text": [
      "Hello, Bob! You are 25 years old.\n"
     ]
    }
   ],
   "source": [
    "def greet(name, age):\n",
    "    print(f\"Hello, {name}! You are {age} years old.\")\n",
    "\n",
    "greet(age=25, name=\"Bob\")"
   ]
  },
  {
   "cell_type": "markdown",
   "metadata": {},
   "source": []
  },
  {
   "cell_type": "markdown",
   "metadata": {},
   "source": [
    "Qn.3) What is the purpose of the return statement in a function? Can a function have multiple return statements? Explain with an example. \n",
    "\n",
    "Answer:\n",
    "\n",
    "The purpose of the return statement in a function is to specify the value that the function will produce as its output. It allows a function to return a result back to the caller.\n",
    "\n",
    "Yes, a function can have multiple return statements. However, only one return statement will be executed during the function call, and it will immediately exit the function."
   ]
  },
  {
   "cell_type": "code",
   "execution_count": 6,
   "metadata": {},
   "outputs": [
    {
     "name": "stdout",
     "output_type": "stream",
     "text": [
      "B\n"
     ]
    }
   ],
   "source": [
    "def grade(score):\n",
    "    if score >= 90:\n",
    "        return \"A\"\n",
    "    elif score >= 80:\n",
    "        return \"B\"\n",
    "    elif score >= 70:\n",
    "        return \"C\"\n",
    "    else:\n",
    "        return \"F\"\n",
    "\n",
    "get_grade = grade(85)\n",
    "print(get_grade) \n"
   ]
  },
  {
   "cell_type": "markdown",
   "metadata": {},
   "source": []
  },
  {
   "cell_type": "markdown",
   "metadata": {},
   "source": [
    "Qn.4) What are lambda functions in Python? How are they different from regular functions? Provide an example where a lambda function can be useful. \n",
    "\n",
    "Answer:\n",
    "\n",
    "Lambda functions in Python are small, anonymous functions defined using the lambda keyword. They can take any number of arguments but can only have one expression. Lambda functions are often used for simple, one-line operations and are not assigned a name like regular functions.\n",
    "\n",
    "Difference from regular functions:\n",
    "\n",
    "Lambda functions are anonymous and do not have a name.\n",
    "They are typically used for simple, short operations where defining a regular function would be unnecessary."
   ]
  },
  {
   "cell_type": "code",
   "execution_count": 8,
   "metadata": {},
   "outputs": [
    {
     "name": "stdout",
     "output_type": "stream",
     "text": [
      "5\n"
     ]
    }
   ],
   "source": [
    "add_lambda = lambda x, y: x + y\n",
    "result2 = add_lambda(2, 3)\n",
    "print(result2)"
   ]
  },
  {
   "cell_type": "markdown",
   "metadata": {},
   "source": []
  },
  {
   "cell_type": "markdown",
   "metadata": {},
   "source": [
    "Qn.5) How does the concept of \"scope\" apply to functions in Python? Explain the difference between local scope and global scope. \n",
    "\n",
    "Answer:\n",
    "\n",
    "In Python, \"scope\" refers to the visibility and accessibility of variables within different parts of the code. The concept of scope applies to functions as follows:\n",
    "\n",
    "Local Scope: Variables defined inside a function have a local scope, meaning they are only accessible within that function. They cannot be accessed outside the function or in other functions.\n",
    "\n",
    "Global Scope: Variables defined outside any function, at the top level of the script, have a global scope. They can be accessed from any part of the code, including inside functions.\n"
   ]
  },
  {
   "cell_type": "markdown",
   "metadata": {},
   "source": []
  },
  {
   "cell_type": "markdown",
   "metadata": {},
   "source": [
    "Qn.6) How can you use the \"return\" statement in a Python function to return multiple values?\n",
    "\n",
    "Answer:"
   ]
  },
  {
   "cell_type": "code",
   "execution_count": 12,
   "metadata": {},
   "outputs": [
    {
     "data": {
      "text/plain": [
       "('Alice', 30, 'New York')"
      ]
     },
     "execution_count": 12,
     "metadata": {},
     "output_type": "execute_result"
    }
   ],
   "source": [
    "def get_person_info():\n",
    "    name = \"Alice\"\n",
    "    age = 30\n",
    "    city = \"New York\"\n",
    "    return name, age, city\n",
    "get_person_info()\n"
   ]
  },
  {
   "cell_type": "markdown",
   "metadata": {},
   "source": []
  },
  {
   "cell_type": "markdown",
   "metadata": {},
   "source": [
    "Qn.7) What is the difference between the \"pass by value\" and \"pass by reference\" concepts when it comes to function arguments in Python? \n",
    "\n",
    "Answer:\n",
    "\n",
    "1. \"Pass by value\" means passing a copy of the variable's value to the function. Changes inside the function do not affect the original variable.\n",
    "2. \"Pass by reference\" means passing a reference (memory address) of the variable to the function. Changes inside the function affect the original variable.\n",
    "\n",
    "In Python, all function arguments are passed by reference. This means that when you pass a variable to a function, you are passing a reference to the same memory location where the variable is stored. "
   ]
  },
  {
   "cell_type": "code",
   "execution_count": 13,
   "metadata": {},
   "outputs": [
    {
     "name": "stdout",
     "output_type": "stream",
     "text": [
      "Inside function: 15\n",
      "Outside function: 5\n"
     ]
    }
   ],
   "source": [
    "# Pass by value (No change in original variable)\n",
    "def modify_value(x):\n",
    "    x = x + 10\n",
    "    print(\"Inside function:\", x)\n",
    "\n",
    "num = 5\n",
    "modify_value(num)\n",
    "print(\"Outside function:\", num)\n"
   ]
  },
  {
   "cell_type": "code",
   "execution_count": 14,
   "metadata": {},
   "outputs": [
    {
     "name": "stdout",
     "output_type": "stream",
     "text": [
      "Inside function: [1, 2, 3, 4]\n",
      "Outside function: [1, 2, 3, 4]\n"
     ]
    }
   ],
   "source": [
    "# Pass by reference (Change in original list)\n",
    "def modify_list(lst):\n",
    "    lst.append(4)\n",
    "    print(\"Inside function:\", lst)\n",
    "\n",
    "my_list = [1, 2, 3]\n",
    "modify_list(my_list)\n",
    "print(\"Outside function:\", my_list)\n"
   ]
  },
  {
   "cell_type": "markdown",
   "metadata": {},
   "source": []
  },
  {
   "cell_type": "markdown",
   "metadata": {},
   "source": [
    "Qn.8) Create a function that can intake integer or decimal value and do following operations: \n",
    "a. Logarithmic function (log x) \n",
    "b. Exponential function (exp(x)) \n",
    "c. Power function with base 2 (2x) \n",
    "d. Square root "
   ]
  },
  {
   "cell_type": "code",
   "execution_count": 19,
   "metadata": {},
   "outputs": [
    {
     "data": {
      "text/plain": [
       "(1.6094379124341003, 148.4131591025766, 32.0, 2.23606797749979)"
      ]
     },
     "execution_count": 19,
     "metadata": {},
     "output_type": "execute_result"
    }
   ],
   "source": [
    "import math\n",
    "\n",
    "def math_operations(x):\n",
    "    # Logarithmic function (log x)\n",
    "    log_result = math.log(x)\n",
    "\n",
    "    # Exponential function (exp(x))\n",
    "    exp_result = math.exp(x)\n",
    "\n",
    "    # Power function with base 2 (2x)\n",
    "    power_result = math.pow(2, x)\n",
    "\n",
    "    # Square root\n",
    "    sqrt_result = math.sqrt(x)\n",
    "\n",
    "    return log_result, exp_result, power_result, sqrt_result\n",
    "\n",
    "math_operations(5)"
   ]
  },
  {
   "cell_type": "code",
   "execution_count": 20,
   "metadata": {},
   "outputs": [
    {
     "data": {
      "text/plain": [
       "(0.9162907318741551, 12.182493960703473, 5.656854249492381, 1.5811388300841898)"
      ]
     },
     "execution_count": 20,
     "metadata": {},
     "output_type": "execute_result"
    }
   ],
   "source": [
    "math_operations(2.5)"
   ]
  },
  {
   "cell_type": "markdown",
   "metadata": {},
   "source": []
  },
  {
   "cell_type": "markdown",
   "metadata": {},
   "source": [
    "Qn.9) Create a function that takes a full name as an argument and returns first name and last name.\n",
    "\n",
    "Answer:"
   ]
  },
  {
   "cell_type": "code",
   "execution_count": 37,
   "metadata": {},
   "outputs": [
    {
     "name": "stdout",
     "output_type": "stream",
     "text": [
      "First Name is: Sagar And Last Name is: Gupta\n"
     ]
    }
   ],
   "source": [
    "def name_details(full_name):\n",
    "    names = full_name.split() \n",
    "    first_name = names[0]\n",
    "    last_name = names[1]\n",
    "    print(\"First Name is:\", first_name, \"And Last Name is:\", last_name)   \n",
    "\n",
    "name_details(\"Sagar Gupta\")    \n"
   ]
  }
 ],
 "metadata": {
  "kernelspec": {
   "display_name": "base",
   "language": "python",
   "name": "python3"
  },
  "language_info": {
   "codemirror_mode": {
    "name": "ipython",
    "version": 3
   },
   "file_extension": ".py",
   "mimetype": "text/x-python",
   "name": "python",
   "nbconvert_exporter": "python",
   "pygments_lexer": "ipython3",
   "version": "3.11.3"
  },
  "orig_nbformat": 4
 },
 "nbformat": 4,
 "nbformat_minor": 2
}
