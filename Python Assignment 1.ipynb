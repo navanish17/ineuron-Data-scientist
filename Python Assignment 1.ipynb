{
 "cells": [
  {
   "cell_type": "markdown",
   "id": "34e9daa1",
   "metadata": {},
   "source": [
    "Qn.1)\n",
    "1. In the below elements which of them are values or an expression? eg:- values can be\n",
    "integer or string and expressions will be mathematical operators.\n",
    "\n",
    "*\n",
    "'hello'\n",
    "-87.8\n",
    "-\n",
    "/\n",
    "+\n",
    "6\n",
    "\n",
    "Answer: \n",
    "\n",
    "VALUES: 6, 'hello', (-87.8 is float value)\n",
    "EXPRESSIONS: *, -, /, +\n"
   ]
  },
  {
   "cell_type": "raw",
   "id": "7d597fd2",
   "metadata": {},
   "source": []
  },
  {
   "cell_type": "raw",
   "id": "20f2a2ba",
   "metadata": {},
   "source": [
    "Qn.2) What is the difference between string and variable ?\n",
    "\n",
    "Answer: The main difference between string and variable are as follows:\n",
    "\n",
    "VARIABLE is used to save the information, And save data can be in any form or type e.g string, integer, float etc.\n",
    "\n",
    "STRINGS is used as information (word form), which is stored and saved under VARIABLE.\n",
    "\n",
    "e.g\n",
    "\n",
    "RESULT = 'I got 90 out of 100'\n",
    "\n",
    "here L.H.S = VARIABLE\n",
    "R.H.S = STRING"
   ]
  },
  {
   "cell_type": "code",
   "execution_count": null,
   "id": "309f39fd",
   "metadata": {},
   "outputs": [],
   "source": []
  },
  {
   "cell_type": "raw",
   "id": "5eb3e84c",
   "metadata": {},
   "source": [
    "Qn.3) Describe three different data types.\n",
    "\n",
    "ANSWER: \n",
    "\n",
    "Three main data types are as follows:\n",
    "\n",
    "1. int (integer)\n",
    "This data types include whole numeric number without decimal e.g 1, 2, 3, 4, 5....\n",
    "\n",
    "2. str (string)\n",
    "This data types include words and setences e.g \"This is Apple\"\n",
    "\n",
    "3. list\n",
    "This include list of item e.g\n",
    "x = [\"Cricket\", \"Football\", \"Box\"]\n"
   ]
  },
  {
   "cell_type": "code",
   "execution_count": null,
   "id": "0caed10e",
   "metadata": {},
   "outputs": [],
   "source": []
  },
  {
   "cell_type": "raw",
   "id": "7ec129e2",
   "metadata": {},
   "source": [
    "Qn.4) What is an expression made up of? What do all expressions do?\n",
    "\n",
    "Answer: We can say that an expression is a combination of values, variables, operators, and calls to functions. The expression in Python produces some value or result after being interpreted by the Python interpreter. \n",
    "Example:\n",
    " result = a*b-c\n",
    "\n"
   ]
  },
  {
   "cell_type": "code",
   "execution_count": null,
   "id": "5188fda2",
   "metadata": {},
   "outputs": [],
   "source": []
  },
  {
   "cell_type": "raw",
   "id": "bc41f9c5",
   "metadata": {},
   "source": [
    "Qn.5) This assignment statements, like spam = 10. What is the difference between an\n",
    "expression and a statement?\n",
    "Ans:\n",
    "A combination of operands and operators is called an expression\n",
    "An example of expression can be : Y=Y+20\n",
    "\n",
    "A statement is not evaluated for some results. A statement is used for creating variables or for displaying values.\n",
    "where a = 10  ( this is a kind of statement)\n",
    "print(a)\n",
    "\n",
    "spam = 10 -----This is a kind of statement\n",
    "spam = spam + 10 -------- This is kind of expression\n",
    "\n",
    "\n",
    "\n",
    "\n",
    "\n",
    "\n"
   ]
  },
  {
   "cell_type": "raw",
   "id": "0576b521",
   "metadata": {},
   "source": []
  },
  {
   "cell_type": "raw",
   "id": "eca35476",
   "metadata": {},
   "source": [
    "Qn.6) After running the following code, what does the variable bacon contain?\n",
    "bacon = 22\n",
    "bacon + 1"
   ]
  },
  {
   "cell_type": "code",
   "execution_count": 1,
   "id": "d9b6642e",
   "metadata": {},
   "outputs": [
    {
     "data": {
      "text/plain": [
       "23"
      ]
     },
     "execution_count": 1,
     "metadata": {},
     "output_type": "execute_result"
    }
   ],
   "source": [
    "# Answer\n",
    "bacon = 22\n",
    "bacon +1"
   ]
  },
  {
   "cell_type": "code",
   "execution_count": null,
   "id": "0c41bcb4",
   "metadata": {},
   "outputs": [],
   "source": []
  },
  {
   "cell_type": "raw",
   "id": "cb449965",
   "metadata": {},
   "source": [
    "Qn.7) What should the values of the following two terms be?\n",
    "'spam' + 'spamspam'\n",
    "'spam'* 3"
   ]
  },
  {
   "cell_type": "code",
   "execution_count": 2,
   "id": "7dc7804d",
   "metadata": {},
   "outputs": [
    {
     "data": {
      "text/plain": [
       "'spamspamspam'"
      ]
     },
     "execution_count": 2,
     "metadata": {},
     "output_type": "execute_result"
    }
   ],
   "source": [
    "#Answer\n",
    "\n",
    "'spam' + 'spamspam'"
   ]
  },
  {
   "cell_type": "code",
   "execution_count": 3,
   "id": "0a0a4ba1",
   "metadata": {},
   "outputs": [
    {
     "data": {
      "text/plain": [
       "'spamspamspam'"
      ]
     },
     "execution_count": 3,
     "metadata": {},
     "output_type": "execute_result"
    }
   ],
   "source": [
    "'spam'*3"
   ]
  },
  {
   "cell_type": "code",
   "execution_count": null,
   "id": "a72cf419",
   "metadata": {},
   "outputs": [],
   "source": []
  },
  {
   "cell_type": "raw",
   "id": "c7dbc404",
   "metadata": {},
   "source": [
    "Qn.8) Why is eggs a valid variable name while 100 is invalid ?\n",
    "Answer:\n",
    "Because variable can never start with Number in Python."
   ]
  },
  {
   "cell_type": "code",
   "execution_count": null,
   "id": "794f2c03",
   "metadata": {},
   "outputs": [],
   "source": []
  },
  {
   "cell_type": "raw",
   "id": "0769e9a8",
   "metadata": {},
   "source": [
    "Qn.9) What three functions can be used to get the integer, floating-point number, or string\n",
    "version of a value?\n",
    "\n",
    "Answer: This three function are int() , float() , and str( ) functions will evaluate to the integer, floating-point number, and string versions of the value passed to them.\n"
   ]
  },
  {
   "cell_type": "code",
   "execution_count": null,
   "id": "d0f1c3d6",
   "metadata": {},
   "outputs": [],
   "source": []
  },
  {
   "cell_type": "raw",
   "id": "7ddc2333",
   "metadata": {},
   "source": [
    "Qn.10) Why does this expression cause an error? How can you fix it?\n",
    "'I have eaten' + 99 + 'burritos'\n",
    "\n",
    "Answer: 'I have eaten ' + 99 + ' burritos. ' The expression causes an error because 99 is an integer, and only strings can be concatenated to other strings with the + operator, and you can not concatenate integer into it. The correct way is I have eaten ' + str(99) + ' burritos.\n"
   ]
  },
  {
   "cell_type": "code",
   "execution_count": null,
   "id": "ed5fbd28",
   "metadata": {},
   "outputs": [],
   "source": []
  }
 ],
 "metadata": {
  "kernelspec": {
   "display_name": "Python 3 (ipykernel)",
   "language": "python",
   "name": "python3"
  },
  "language_info": {
   "codemirror_mode": {
    "name": "ipython",
    "version": 3
   },
   "file_extension": ".py",
   "mimetype": "text/x-python",
   "name": "python",
   "nbconvert_exporter": "python",
   "pygments_lexer": "ipython3",
   "version": "3.11.3"
  }
 },
 "nbformat": 4,
 "nbformat_minor": 5
}
